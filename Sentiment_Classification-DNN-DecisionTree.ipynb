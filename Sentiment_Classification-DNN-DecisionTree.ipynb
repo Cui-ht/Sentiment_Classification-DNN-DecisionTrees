{
 "cells": [
  {
   "cell_type": "markdown",
   "metadata": {},
   "source": [
    "# Text Sentiment Calssification w/ DNN & Decision Trees"
   ]
  },
  {
   "cell_type": "markdown",
   "metadata": {},
   "source": [
    "##### Haotian Cui, 14-2-2022"
   ]
  },
  {
   "cell_type": "code",
   "execution_count": 1,
   "metadata": {},
   "outputs": [],
   "source": [
    "import numpy as np\n",
    "import matplotlib.pyplot as plt\n",
    "\n",
    "from tensorflow.keras.models import Sequential\n",
    "from tensorflow.keras.layers import Dense\n",
    "from tensorflow.keras.datasets import imdb\n",
    "from tensorflow import autograph as autograph\n",
    "\n",
    "from sklearn.tree import DecisionTreeClassifier\n",
    "from sklearn.model_selection import train_test_split"
   ]
  },
  {
   "cell_type": "code",
   "execution_count": 2,
   "metadata": {},
   "outputs": [
    {
     "name": "stderr",
     "output_type": "stream",
     "text": [
      "<__array_function__ internals>:5: VisibleDeprecationWarning: Creating an ndarray from ragged nested sequences (which is a list-or-tuple of lists-or-tuples-or ndarrays with different lengths or shapes) is deprecated. If you meant to do this, you must specify 'dtype=object' when creating the ndarray.\n",
      "/Users/haotiancui/miniforge3/envs/tf_env/lib/python3.8/site-packages/tensorflow/python/keras/datasets/imdb.py:159: VisibleDeprecationWarning: Creating an ndarray from ragged nested sequences (which is a list-or-tuple of lists-or-tuples-or ndarrays with different lengths or shapes) is deprecated. If you meant to do this, you must specify 'dtype=object' when creating the ndarray.\n",
      "  x_train, y_train = np.array(xs[:idx]), np.array(labels[:idx])\n",
      "/Users/haotiancui/miniforge3/envs/tf_env/lib/python3.8/site-packages/tensorflow/python/keras/datasets/imdb.py:160: VisibleDeprecationWarning: Creating an ndarray from ragged nested sequences (which is a list-or-tuple of lists-or-tuples-or ndarrays with different lengths or shapes) is deprecated. If you meant to do this, you must specify 'dtype=object' when creating the ndarray.\n",
      "  x_test, y_test = np.array(xs[idx:]), np.array(labels[idx:])\n"
     ]
    }
   ],
   "source": [
    "# load data\n",
    "# num_words=10000: top 10000 most frequent words will be included\n",
    "# index_from=2: add 100-3=97 to all indices to avoid start_char and oov\n",
    "# Xtrain_seq, Xtest_seq: index-represented documents; ytrain, ytest: positive/negative lables (1, 0)\n",
    "(Xtrain_seq, ytrain), (Xtest_seq, ytest) = imdb.load_data(num_words=10000, index_from=2)"
   ]
  },
  {
   "cell_type": "code",
   "execution_count": 3,
   "metadata": {},
   "outputs": [
    {
     "name": "stdout",
     "output_type": "stream",
     "text": [
      "as a big fan of the original film it's hard to watch this show the OOV set OOV and OOV OOV sets rob any style from this remake the mood is never there instead it has the look and feel of so many television movies of the seventies crenna is not a bad choice as walter OOV but his snappy wardrobe and OOV apartment don't fit the mood of the original or make him an interesting character he does his best to make it work but samantha OOV is a really bad choice the english accent and california looks can't hold a candle to barbara OOV OOV voice and sex appeal lee j OOV tries OOV to fashion barton OOV but even his performance is just gruff without style br br it feels like the tv movie it was and again reminds me of what a remarkable film the original still is\n"
     ]
    }
   ],
   "source": [
    "# get real text\n",
    "# get freq-index mapping\n",
    "term_to_index = imdb.get_word_index()\n",
    "\n",
    "index_to_term = {0: \"PAD\", 1: \"START\", 2: \"OOV\"}\n",
    "for term, index in term_to_index.items():\n",
    "    index_to_term[index + 2] = term\n",
    "    \n",
    "def get_real_text(indices_list):\n",
    "    snt = []\n",
    "    for i in indices_list[1:]:\n",
    "        snt.append(index_to_term[i])\n",
    "    return \" \".join(snt)\n",
    "\n",
    "print(get_real_text(Xtrain_seq[24999]))"
   ]
  },
  {
   "cell_type": "markdown",
   "metadata": {},
   "source": [
    "## Vectorization (Bag of Words)"
   ]
  },
  {
   "cell_type": "code",
   "execution_count": 4,
   "metadata": {},
   "outputs": [],
   "source": [
    "# vectorize documents (bag of words)\n",
    "def bags_of_words(documents, numterms=10000):\n",
    "    # create an empty matrix of (len(documents), 10000)\n",
    "    document_term_counts = np.zeros(\n",
    "                                    (len(documents), numterms)\n",
    "                                    )\n",
    "    \n",
    "    # fill the matrix with vectorized documents\n",
    "    # each document is presented by the term freq in the 10000 words \n",
    "    for document_index, document in enumerate(documents):\n",
    "        # loop through all documents\n",
    "        for term_index in document: \n",
    "            # add 1 to the position everytime the term occurs\n",
    "            document_term_counts[document_index, term_index] += 1\n",
    "    return document_term_counts\n",
    "\n",
    "# each vector is in the shape of (1, 10000), each position filling by the count of the term"
   ]
  },
  {
   "cell_type": "code",
   "execution_count": 5,
   "metadata": {},
   "outputs": [],
   "source": [
    "# vectorize training and test data with above func\n",
    "Xtrain = bags_of_words(Xtrain_seq)\n",
    "Xtest = bags_of_words(Xtest_seq)\n",
    "\n",
    "# convert labels to arrays\n",
    "ytrain = np.array(ytrain)\n",
    "ytest = np.array(ytest)"
   ]
  },
  {
   "cell_type": "markdown",
   "metadata": {},
   "source": [
    "## DNN model"
   ]
  },
  {
   "cell_type": "code",
   "execution_count": 6,
   "metadata": {},
   "outputs": [],
   "source": [
    "def build_dnn_model(input_width=10000, \n",
    "                    hidden_width=16, \n",
    "                    output_width=1,\n",
    "                    add_hidden_layers=1, \n",
    "                    hidden_layer_activation=\"sigmoid\"):\n",
    "    \n",
    "    dnn_model = Sequential()\n",
    "    # add hidden layer, default activation func=sigmoid\n",
    "    dnn_model.add(Dense(hidden_width, activation=hidden_layer_activation, input_shape=(input_width,)))\n",
    "    # add custom number of hidden layers (default=1)\n",
    "    for i in range(add_hidden_layers):\n",
    "        dnn_model.add(Dense(hidden_width, activation=hidden_layer_activation))\n",
    "    # add output layer\n",
    "    dnn_model.add(Dense(output_width, activation='sigmoid'))\n",
    "    dnn_model.compile(loss='binary_crossentropy', optimizer=\"rmsprop\", metrics=['accuracy'])\n",
    "    \n",
    "    return dnn_model"
   ]
  },
  {
   "cell_type": "code",
   "execution_count": 7,
   "metadata": {},
   "outputs": [
    {
     "name": "stdout",
     "output_type": "stream",
     "text": [
      "Model: \"sequential\"\n",
      "_________________________________________________________________\n",
      "Layer (type)                 Output Shape              Param #   \n",
      "=================================================================\n",
      "dense (Dense)                (None, 16)                160016    \n",
      "_________________________________________________________________\n",
      "dense_1 (Dense)              (None, 16)                272       \n",
      "_________________________________________________________________\n",
      "dense_2 (Dense)              (None, 1)                 17        \n",
      "=================================================================\n",
      "Total params: 160,305\n",
      "Trainable params: 160,305\n",
      "Non-trainable params: 0\n",
      "_________________________________________________________________\n"
     ]
    }
   ],
   "source": [
    "dnn_model = build_dnn_model()\n",
    "dnn_model.summary()"
   ]
  },
  {
   "cell_type": "code",
   "execution_count": 8,
   "metadata": {},
   "outputs": [
    {
     "name": "stdout",
     "output_type": "stream",
     "text": [
      "Epoch 1/6\n",
      "WARNING:tensorflow:AutoGraph could not transform <function Model.make_train_function.<locals>.train_function at 0x1698405e0> and will run it as-is.\n",
      "Please report this to the TensorFlow team. When filing the bug, set the verbosity to 10 (on Linux, `export AUTOGRAPH_VERBOSITY=10`) and attach the full output.\n",
      "Cause: unsupported operand type(s) for -: 'NoneType' and 'int'\n",
      "To silence this warning, decorate the function with @tf.autograph.experimental.do_not_convert\n",
      "WARNING: AutoGraph could not transform <function Model.make_train_function.<locals>.train_function at 0x1698405e0> and will run it as-is.\n",
      "Please report this to the TensorFlow team. When filing the bug, set the verbosity to 10 (on Linux, `export AUTOGRAPH_VERBOSITY=10`) and attach the full output.\n",
      "Cause: unsupported operand type(s) for -: 'NoneType' and 'int'\n",
      "To silence this warning, decorate the function with @tf.autograph.experimental.do_not_convert\n"
     ]
    },
    {
     "name": "stderr",
     "output_type": "stream",
     "text": [
      "2022-02-14 18:21:08.334593: I tensorflow/compiler/mlir/mlir_graph_optimization_pass.cc:116] None of the MLIR optimization passes are enabled (registered 2)\n",
      "2022-02-14 18:21:08.336628: W tensorflow/core/platform/profile_utils/cpu_utils.cc:126] Failed to get CPU frequency: 0 Hz\n"
     ]
    },
    {
     "name": "stdout",
     "output_type": "stream",
     "text": [
      "336/352 [===========================>..] - ETA: 0s - loss: 0.6960 - accuracy: 0.5914WARNING:tensorflow:AutoGraph could not transform <function Model.make_test_function.<locals>.test_function at 0x176b520d0> and will run it as-is.\n",
      "Please report this to the TensorFlow team. When filing the bug, set the verbosity to 10 (on Linux, `export AUTOGRAPH_VERBOSITY=10`) and attach the full output.\n",
      "Cause: unsupported operand type(s) for -: 'NoneType' and 'int'\n",
      "To silence this warning, decorate the function with @tf.autograph.experimental.do_not_convert\n",
      "WARNING: AutoGraph could not transform <function Model.make_test_function.<locals>.test_function at 0x176b520d0> and will run it as-is.\n",
      "Please report this to the TensorFlow team. When filing the bug, set the verbosity to 10 (on Linux, `export AUTOGRAPH_VERBOSITY=10`) and attach the full output.\n",
      "Cause: unsupported operand type(s) for -: 'NoneType' and 'int'\n",
      "To silence this warning, decorate the function with @tf.autograph.experimental.do_not_convert\n",
      "352/352 [==============================] - 1s 3ms/step - loss: 0.6949 - accuracy: 0.5978 - val_loss: 0.6060 - val_accuracy: 0.8676\n",
      "Epoch 2/6\n",
      "352/352 [==============================] - 1s 2ms/step - loss: 0.5222 - accuracy: 0.8871 - val_loss: 0.3317 - val_accuracy: 0.8860\n",
      "Epoch 3/6\n",
      "352/352 [==============================] - 1s 2ms/step - loss: 0.2651 - accuracy: 0.9162 - val_loss: 0.2897 - val_accuracy: 0.8936\n",
      "Epoch 4/6\n",
      "352/352 [==============================] - 1s 2ms/step - loss: 0.2119 - accuracy: 0.9298 - val_loss: 0.2859 - val_accuracy: 0.8972\n",
      "Epoch 5/6\n",
      "352/352 [==============================] - 1s 2ms/step - loss: 0.1747 - accuracy: 0.9431 - val_loss: 0.2806 - val_accuracy: 0.8992\n",
      "Epoch 6/6\n",
      "352/352 [==============================] - 1s 2ms/step - loss: 0.1563 - accuracy: 0.9483 - val_loss: 0.2915 - val_accuracy: 0.8960\n"
     ]
    }
   ],
   "source": [
    "dnn_model = build_dnn_model(add_hidden_layers=3, hidden_width=8)\n",
    "dnn_training_info = dnn_model.fit(Xtrain, ytrain, \n",
    "                                  epochs=6, \n",
    "                                  batch_size=64, \n",
    "                                  validation_split=0.1)  "
   ]
  },
  {
   "cell_type": "code",
   "execution_count": 9,
   "metadata": {},
   "outputs": [
    {
     "data": {
      "image/png": "[encoded data removed]",
      "text/plain": [
       "<Figure size 1152x360 with 2 Axes>"
      ]
     },
     "metadata": {
      "needs_background": "light"
     },
     "output_type": "display_data"
    }
   ],
   "source": [
    "# plot loss and accuracy\n",
    "fig, axs = plt.subplots(figsize=(16, 5))\n",
    "\n",
    "ax1 = plt.subplot(121)\n",
    "ax1.plot(dnn_training_info.history['loss'], label=\"training set\")\n",
    "ax1.plot(dnn_training_info.history['val_loss'], label=\"validation set\")\n",
    "ax1.set_title(\"Loss\")\n",
    "ax1.set_xlabel(\"Epoch\")\n",
    "ax1.set_ylabel(\"Loss\")\n",
    "ax1.grid(True)\n",
    "ax1.legend()\n",
    "\n",
    "ax2 = plt.subplot(122)\n",
    "ax2.plot(dnn_training_info.history['accuracy'], label=\"training set\")\n",
    "ax2.plot(dnn_training_info.history['val_accuracy'], label=\"validation set\")\n",
    "ax2.set_title(\"Accuracy\")\n",
    "ax2.set_xlabel(\"Epoch\")\n",
    "ax2.set_ylabel(\"Accuracy\")\n",
    "ax2.grid(True)\n",
    "ax2.legend()\n",
    "plt.show()"
   ]
  },
  {
   "cell_type": "code",
   "execution_count": 10,
   "metadata": {},
   "outputs": [
    {
     "name": "stdout",
     "output_type": "stream",
     "text": [
      "391/391 [==============================] - 1s 1ms/step - loss: 0.3041 - accuracy: 0.8868\n",
      "\n",
      "------- DNN model evaluation -------\n",
      "Loss:  0.3040623962879181\n",
      "Accuracy:  0.8868399858474731\n"
     ]
    }
   ],
   "source": [
    "# evaluate model\n",
    "dnn_eval = dnn_model.evaluate(Xtest, ytest, \n",
    "                              batch_size=64)\n",
    "\n",
    "print()\n",
    "print(\"------- DNN model evaluation -------\")\n",
    "print(\"Loss: \", dnn_eval[0])\n",
    "print(\"Accuracy: \", dnn_eval[1])"
   ]
  },
  {
   "cell_type": "markdown",
   "metadata": {},
   "source": [
    "## Decision Trees model"
   ]
  },
  {
   "cell_type": "code",
   "execution_count": 11,
   "metadata": {},
   "outputs": [],
   "source": [
    "# make validation sets to test hyperparameters\n",
    "Xtrain_tree, Xval_tree, ytrain_tree, yval_tree = train_test_split(Xtrain, ytrain, test_size=0.2, random_state=1)"
   ]
  },
  {
   "cell_type": "code",
   "execution_count": 12,
   "metadata": {},
   "outputs": [],
   "source": [
    "# build the model with best max depth\n",
    "def build_tree_model(criterion='gini', \n",
    "                     random_state=22, \n",
    "                     max_depth_MIN=2,\n",
    "                     max_depth_MAX=30):\n",
    "    \n",
    "    # loop through custom max depths until the best accuracy score is reached\n",
    "    score = []\n",
    "    for i in range(max_depth_MIN, max_depth_MAX):\n",
    "        tree_model = DecisionTreeClassifier(criterion=criterion, \n",
    "                                            random_state=random_state, \n",
    "                                            max_depth=i)       \n",
    "        tree_model.fit(Xtrain_tree, ytrain_tree)\n",
    "        score.append(tree_model.score(Xval_tree, yval_tree))\n",
    "\n",
    "        # get the best accuracy score and the corresponding max_depth\n",
    "        (max_score, max_score_depth) = (max(score), score.index(max(score)) + max_depth_MIN)\n",
    "    \n",
    "    print(\"------- Max_depth of the best accuracy score (validation set) -------\")\n",
    "    print(\"score: \", max_score)\n",
    "    print(\"depth: \", max_score_depth)\n",
    "    \n",
    "    # return the model with best max_depth parameter\n",
    "    tree_model = DecisionTreeClassifier(criterion=criterion, \n",
    "                                        random_state=random_state, \n",
    "                                        max_depth=max_score_depth).fit(Xtrain_tree, ytrain_tree)\n",
    "    \n",
    "    return tree_model"
   ]
  },
  {
   "cell_type": "code",
   "execution_count": 13,
   "metadata": {},
   "outputs": [
    {
     "name": "stdout",
     "output_type": "stream",
     "text": [
      "------- Max_depth of the best accuracy score (validation set) -------\n",
      "score:  0.7372\n",
      "depth:  24\n"
     ]
    }
   ],
   "source": [
    "tree_model = build_tree_model(max_depth_MIN=20, max_depth_MAX=30)"
   ]
  },
  {
   "cell_type": "code",
   "execution_count": 19,
   "metadata": {},
   "outputs": [
    {
     "name": "stdout",
     "output_type": "stream",
     "text": [
      "DecisionTreeClassifier(max_depth=24, random_state=22)\n"
     ]
    }
   ],
   "source": [
    "print(tree_model)"
   ]
  },
  {
   "cell_type": "code",
   "execution_count": 25,
   "metadata": {},
   "outputs": [
    {
     "name": "stdout",
     "output_type": "stream",
     "text": [
      "------- Decision Tree model evaluation -------\n",
      "Accuracy:  0.7356\n",
      "Tree Depth:  24\n"
     ]
    }
   ],
   "source": [
    "# evaluate the model on the test set\n",
    "print(\"------- Decision Tree model evaluation -------\")\n",
    "print(\"Accuracy: \", (tree_model).score(Xtest, ytest))\n",
    "print(\"Tree Depth: \", tree_model.get_depth())"
   ]
  }
 ],
 "metadata": {
  "interpreter": {
   "hash": "f183a989529d9a14bb5907893101b4c63c5b1b389a646268069d3906712f8a9b"
  },
  "kernelspec": {
   "display_name": "Python 3.8.12 64-bit ('tf_env': conda)",
   "language": "python",
   "name": "python3"
  },
  "language_info": {
   "codemirror_mode": {
    "name": "ipython",
    "version": 3
   },
   "file_extension": ".py",
   "mimetype": "text/x-python",
   "name": "python",
   "nbconvert_exporter": "python",
   "pygments_lexer": "ipython3",
   "version": "3.8.12"
  },
  "orig_nbformat": 4
 },
 "nbformat": 4,
 "nbformat_minor": 2
}
